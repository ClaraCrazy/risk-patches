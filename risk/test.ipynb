{
 "cells": [
  {
   "cell_type": "code",
   "execution_count": 1,
   "metadata": {},
   "outputs": [],
   "source": [
    "import cv2\n",
    "import numpy as np\n",
    "from PIL import Image, ImageDraw, ImageFont"
   ]
  },
  {
   "cell_type": "code",
   "execution_count": 2,
   "metadata": {},
   "outputs": [],
   "source": [
    "def get_marked_centers(image_path, target_color=(255, 0, 0)):\n",
    "    \"\"\"Finds manually marked center points by detecting a specific color in the image.\"\"\"\n",
    "    image = cv2.imread(image_path)\n",
    "    hsv = cv2.cvtColor(image, cv2.COLOR_BGR2HSV)\n",
    "    \n",
    "    # Define range for the target color (tuned for pure red marks)\n",
    "    lower_bound = np.array([0, 100, 100])\n",
    "    upper_bound = np.array([10, 255, 255])\n",
    "    \n",
    "    mask = cv2.inRange(hsv, lower_bound, upper_bound)\n",
    "    \n",
    "    # Find the nonzero points (locations of the marked centers)\n",
    "    points = cv2.findNonZero(mask)\n",
    "    \n",
    "    centers = []\n",
    "    if points is not None:\n",
    "        for point in points:\n",
    "            x, y = point[0]\n",
    "            centers.append((int(x), int(y)))\n",
    "    \n",
    "    return centers\n",
    "\n",
    "def get_text_color(background_color: tuple[int, int, int, int]):\n",
    "    \"\"\"Returns black or white text color based on the brightness of the background.\"\"\"\n",
    "    r, g, b = background_color[:3]\n",
    "    brightness = (r * 299 + g * 587 + b * 114) / 1000\n",
    "    return (0,0,0) if brightness > 128 else (189, 199, 217)\n",
    "\n",
    "def color_territories(image_path, territory_colors, territory_armies, output_path):\n",
    "    \"\"\"Colors the given territories on the RISK map and overlays army counts with contrast-aware text.\"\"\"\n",
    "    image = Image.open(image_path).convert(\"RGBA\")\n",
    "    draw = ImageDraw.Draw(image)\n",
    "    font = ImageFont.load_default(size=40)\n",
    "    \n",
    "    for coords, color in territory_colors.items():\n",
    "        ImageDraw.floodfill(image, coords, color, thresh=30)\n",
    "    \n",
    "    # Overlay army counts\n",
    "    for (x, y), armies in territory_armies.items():\n",
    "        text = str(armies)\n",
    "        text_size = draw.textbbox((0, 0), text, font=font)\n",
    "        text_x, text_y = text_size[2] - text_size[0], text_size[3] - text_size[1]\n",
    "        \n",
    "        adjusted_x = x - text_x // 2\n",
    "        adjusted_y = y - text_y // 2\n",
    "        \n",
    "        background_color = image.getpixel((x, y))\n",
    "        text_color = get_text_color(background_color)\n",
    "        \n",
    "        draw.text((adjusted_x, adjusted_y), text, fill=text_color, font=font)\n",
    "    \n",
    "    image.save(output_path)\n",
    "    print(f\"Image saved to {output_path}\")"
   ]
  },
  {
   "cell_type": "code",
   "execution_count": 3,
   "metadata": {},
   "outputs": [
    {
     "name": "stdout",
     "output_type": "stream",
     "text": [
      "Detected 42 centers: [(1022, 204), (2420, 273), (2645, 277), (443, 310), (225, 322), (2198, 348), (1270, 429), (1470, 445), (466, 480), (2047, 489), (842, 520), (640, 526), (2363, 549), (1745, 569), (1264, 685), (1481, 691), (456, 701), (2398, 704), (2716, 744), (1993, 761), (662, 780), (1494, 843), (474, 891), (2358, 898), (1260, 950), (1833, 996), (2177, 1068), (708, 1121), (2406, 1142), (1582, 1154), (1352, 1243), (912, 1300), (1722, 1328), (755, 1385), (2715, 1396), (2464, 1442), (1599, 1493), (772, 1594), (2749, 1647), (2581, 1751), (1639, 1759), (1892, 1770)]\n",
      "Image saved to data/colored_map.png\n"
     ]
    }
   ],
   "source": [
    "import pathlib\n",
    "import random\n",
    "\n",
    "marked_image_path = pathlib.Path(\"data/risk_board_2.png\")\n",
    "clear_image_path = pathlib.Path(\"data/risk_board.png\")\n",
    "output_path = pathlib.Path(\"data/colored_map.png\")\n",
    "\n",
    "centers = get_marked_centers(marked_image_path, (191,64,64)) or [(224,324), (484, 330), (462, 488), (654, 520), (856, 516), (476, 706), (692, 756)]\n",
    "print(f\"Detected {len(centers)} centers: {centers}\")\n",
    "\n",
    "territory_colors = {center: (random.randint(0, 255),random.randint(0, 255),random.randint(0, 255), 255) for center in centers}\n",
    "\n",
    "territory_armies = {center: ind for ind, center in enumerate(centers)}\n",
    "\n",
    "color_territories(clear_image_path, territory_colors, territory_armies, output_path)"
   ]
  },
  {
   "cell_type": "code",
   "execution_count": 4,
   "metadata": {},
   "outputs": [],
   "source": [
    "coords = {\n",
    "    \"GREENLAND\": (1022, 204),\n",
    "    \"YAKUTSK\": (2420, 273),\n",
    "    \"KAMCHATKA\": (2645, 277),\n",
    "    \"NORTHWEST_TERRITORY\": (443, 310),\n",
    "    \"ALASKA\": (225, 322),\n",
    "    \"SIBERIA\": (2198, 348),\n",
    "    \"ICELAND\": (1270, 429),\n",
    "    \"SCANDINAVIA\": (1470, 445),\n",
    "    \"ALBERTA\": (466, 480),\n",
    "    \"URAL\": (2047, 489),\n",
    "    \"QUEBEC\": (842, 520),\n",
    "    \"ONTARIO\": (640, 526),\n",
    "    \"IRKUTSK\": (2363, 549),\n",
    "    \"RUSSIA\": (1745, 569),\n",
    "    \"GREAT_BRITAIN\": (1264, 685),\n",
    "    \"NORTHERN_EUROPE\": (1481, 691),\n",
    "    \"WESTERN_UNITED_STATES\": (456, 701),\n",
    "    \"MONGOLIA\": (2398, 704),\n",
    "    \"JAPAN\": (2716, 744),\n",
    "    \"AFGHANISTAN\": (1993, 761),\n",
    "    \"EASTERN_UNITED_STATES\": (662, 780),\n",
    "    \"SOUTHERN_EUROPE\": (1494, 843),\n",
    "    \"CENTRAL_AMERICA\": (474, 891),\n",
    "    \"CHINA\": (2358, 898),\n",
    "    \"WESTERN_EUROPE\": (1260, 950),\n",
    "    \"MIDDLE_EAST\": (1833, 996),\n",
    "    \"INDIA\": (2177, 1068),\n",
    "    \"VENEZUELA\": (708, 1121),\n",
    "    \"SIAM\": (2406, 1142),\n",
    "    \"EGYPT\": (1582, 1154),\n",
    "    \"NORTH_AFRICA\": (1352, 1243),\n",
    "    \"BRAZIL\": (912, 1300),\n",
    "    \"EAST_AFRICA\": (1722, 1328),\n",
    "    \"PERU\": (755, 1385),\n",
    "    \"NEW_GUINEA\": (2715, 1396),\n",
    "    \"INDONESIA\": (2464, 1442),\n",
    "    \"CONGO\": (1599, 1493),\n",
    "    \"ARGENTINA\": (772, 1594),\n",
    "    \"EASTERN_AUSTRALIA\": (2749, 1647),\n",
    "    \"WESTERN_AUSTRALIA\": (2581, 1751),\n",
    "    \"SOUTH_AFRICA\": (1639, 1759),\n",
    "    \"MADAGASCAR\": (1892, 1770),\n",
    "}\n",
    "\n",
    "territory_armies = {(225, 322): '1', (466, 480): '1', (474, 891): '1', (662, 780): '1', (1022, 204): '?', (443, 310): '?', (640, 526): '1', (842, 520): '?', (456, 701): '1', (772, 1594): '?', (912, 1300): '1', (755, 1385): '?', (708, 1121): '?', (1264, 685): '?', (1270, 429): '?', (1481, 691): '1', (1745, 569): '1', (1470, 445): '1', (1494, 843): '?', (1260, 950): '1', (1599, 1493): '?', (1722, 1328): '?', (1582, 1154): '?', (1892, 1770): '1', (1352, 1243): '1', (1639, 1759): '?', (1993, 761): '1', (2358, 898): '?', (2177, 1068): '?', (2363, 549): '?', (2716, 744): '1', (2645, 277): '1', (1833, 996): '?', (2398, 704): '?', (2406, 1142): '?', (2198, 348): '1', (2047, 489): '1', (2420, 273): '?', (2749, 1647): '1', (2464, 1442): '?', (2715, 1396): '1', (2581, 1751): '1'}\n",
    "territory_colors = {(225, 322): (52, 194, 95), (466, 480): (52, 194, 95), (474, 891): (52, 194, 95), (662, 780): (52, 194, 95), (1022, 204): (128, 128, 128), (443, 310): (128, 128, 128), (640, 526): (52, 194, 95), (842, 520): (128, 128, 128), (456, 701): (52, 194, 95), (772, 1594): (128, 128, 128), (912, 1300): (52, 194, 95), (755, 1385): (128, 128, 128), (708, 1121): (128, 128, 128), (1264, 685): (128, 128, 128), (1270, 429): (128, 128, 128), (1481, 691): (52, 194, 95), (1745, 569): (52, 194, 95), (1470, 445): (52, 194, 95), (1494, 843): (128, 128, 128), (1260, 950): (52, 194, 95), (1599, 1493): (128, 128, 128), (1722, 1328): (128, 128, 128), (1582, 1154): (128, 128, 128), (1892, 1770): (52, 194, 95), (1352, 1243): (52, 194, 95), (1639, 1759): (128, 128, 128), (1993, 761): (52, 194, 95), (2358, 898): (128, 128, 128), (2177, 1068): (128, 128, 128), (2363, 549): (128, 128, 128), (2716, 744): (52, 194, 95), (2645, 277): (52, 194, 95), (1833, 996): (128, 128, 128), (2398, 704): (128, 128, 128), (2406, 1142): (128, 128, 128), (2198, 348): (52, 194, 95), (2047, 489): (52, 194, 95), (2420, 273): (128, 128, 128), (2749, 1647): (52, 194, 95), (2464, 1442): (128, 128, 128), (2715, 1396): (52, 194, 95), (2581, 1751): (52, 194, 95)}\n"
   ]
  },
  {
   "cell_type": "code",
   "execution_count": null,
   "metadata": {},
   "outputs": [
    {
     "name": "stdout",
     "output_type": "stream",
     "text": [
      "Image saved to data/colored_map.png\n"
     ]
    }
   ],
   "source": [
    "color_territories(clear_image_path, territory_colors, territory_armies, output_path)"
   ]
  },
  {
   "cell_type": "code",
   "execution_count": null,
   "metadata": {},
   "outputs": [],
   "source": []
  }
 ],
 "metadata": {
  "kernelspec": {
   "display_name": "redenv",
   "language": "python",
   "name": "python3"
  },
  "language_info": {
   "codemirror_mode": {
    "name": "ipython",
    "version": 3
   },
   "file_extension": ".py",
   "mimetype": "text/x-python",
   "name": "python",
   "nbconvert_exporter": "python",
   "pygments_lexer": "ipython3",
   "version": "3.11.11"
  }
 },
 "nbformat": 4,
 "nbformat_minor": 2
}
